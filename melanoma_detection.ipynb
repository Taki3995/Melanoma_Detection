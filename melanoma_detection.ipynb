{
 "cells": [
  {
   "cell_type": "markdown",
   "id": "f86a1f33",
   "metadata": {},
   "source": [
    "# Introduccion y objetivo\n",
    "Este trabajo se centra en detectar segun imagenes el cáncer de piel de tipo melanoma. Esta es una de las enfermedades mas graves en dermatologia, y la deteccion temprana a traves de imagenes es clave para reducir riesgos y mejorar tratamientos. El objetivo es entrenar un modelo de clasifiacion de imagenes capaz de distinguir entre melanoma y no melanoma, exporando como distintos hiperparametros (como la tasa de aprendizaje, numero de epocas, tamaño de batch, regularizacion, entre otros) afectan el desempeño. La metrica principal para evaluar es el F1 Score."
   ]
  },
  {
   "cell_type": "markdown",
   "id": "e31e5609",
   "metadata": {},
   "source": [
    "# EDA"
   ]
  },
  {
   "cell_type": "code",
   "execution_count": null,
   "id": "67a7dee4",
   "metadata": {},
   "outputs": [],
   "source": [
    "import pandas as pd\n",
    "from pathlib import Path\n",
    "\n",
    "# Rutas Archivos\n",
    "\n",
    "train_mel   = Path(r\"C:\\Users\\nonit\\Desktop\\Detección Melanoma\\data\\train\\mel\")\n",
    "train_nomel = Path(r\"C:\\Users\\nonit\\Desktop\\Detección Melanoma\\data\\train\\nomel\")\n",
    "val_mel     = Path(r\"C:\\Users\\nonit\\Desktop\\Detección Melanoma\\data\\val\\mel\")\n",
    "val_nomel   = Path(r\"C:\\Users\\nonit\\Desktop\\Detección Melanoma\\data\\val\\nomel\")\n",
    "test_path   = Path(r\"C:\\Users\\nonit\\Desktop\\Detección Melanoma\\data\\test\")\n",
    "\n",
    "# Archivos CSV\n",
    "test_csv = pd.read_csv(r\"C:\\Users\\nonit\\Desktop\\Detección Melanoma\\data\\test.csv\", encoding=\"utf-8\")\n",
    "\n",
    "# Conteo\n",
    "def list_images(path):\n",
    "    return [f for f in path.glob(\"*\") if f.suffix.lower() in [\".jpg\", \".jpeg\", \".png\"]]\n",
    "\n",
    "train_mel_imgs   = list_images(train_mel)\n",
    "train_nomel_imgs = list_images(train_nomel)\n",
    "val_mel_imgs     = list_images(val_mel)\n",
    "val_nomel_imgs   = list_images(val_nomel)\n",
    "test_imgs        = list_images(test_path)\n",
    "\n",
    "# Resumen\n",
    "\n",
    "print(\"___________ TRAIN ___________\")\n",
    "print(f\"Melanoma    : {len(train_mel_imgs)}\")\n",
    "print(f\"No Melanoma : {len(train_nomel_imgs)}\")\n",
    "print(f\"Total       : {len(train_mel_imgs) + len(train_nomel_imgs)}\")\n",
    "\n",
    "print(\"___________ VALIDATION ___________\")\n",
    "print(f\"Melanoma    : {len(val_mel_imgs)}\")\n",
    "print(f\"No Melanoma : {len(val_nomel_imgs)}\")\n",
    "print(f\"Total       : {len(val_mel_imgs) + len(val_nomel_imgs)}\")\n",
    "\n",
    "print(\"___________ TEST ___________\")\n",
    "print(f\"Total imágenes en carpeta test : {len(test_imgs)}\")\n",
    "print(f\"Total IDs en test.csv          : {len(test_csv)}\")\n",
    "\n",
    "\n",
    "# Tipo de archivos\n",
    "\n",
    "ext_train = set([img.suffix.lower() for img in train_mel_imgs + train_nomel_imgs])\n",
    "ext_val   = set([img.suffix.lower() for img in val_mel_imgs + val_nomel_imgs])\n",
    "ext_test  = set([img.suffix.lower() for img in test_imgs])\n",
    "\n",
    "print(\"\\n _______ FORMATOS _______\")\n",
    "print(f\"Train: {ext_train}\")\n",
    "print(f\"Val  : {ext_val}\")\n",
    "print(f\"Test : {ext_test}\")\n"
   ]
  }
 ],
 "metadata": {
  "language_info": {
   "name": "python"
  }
 },
 "nbformat": 4,
 "nbformat_minor": 5
}
